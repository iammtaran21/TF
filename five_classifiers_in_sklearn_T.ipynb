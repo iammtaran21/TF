{
  "cells": [
    {
      "metadata": {
        "_uuid": "8f2839f25d086af736a60e9eeb907d3b93b6e0e5",
        "_cell_guid": "b1076dfc-b9ad-4769-8c92-a6c4dae69d19",
        "trusted": true,
        "colab": {
          "base_uri": "https://localhost:8080/"
        },
        "id": "baJq8toZeZO9",
        "outputId": "e7f28166-ddea-426a-b52f-9be43aed4b45"
      },
      "cell_type": "code",
      "source": [
        "import numpy as np\n",
        "import pandas as pd\n",
        "import matplotlib.pyplot as plt\n",
        "import seaborn as sns\n",
        "import os\n",
        "import re\n",
        "import string\n",
        "import tqdm\n",
        "import nltk\n",
        "nltk.download('stopwords')\n",
        "nltk.download('wordnet')\n",
        "from wordcloud import WordCloud\n",
        "from wordcloud import STOPWORDS\n",
        "from nltk.corpus import stopwords\n",
        "import xgboost\n",
        "\n",
        "from sklearn.model_selection import train_test_split\n",
        "from sklearn.preprocessing import LabelEncoder\n",
        "from sklearn import model_selection, preprocessing, linear_model, naive_bayes, metrics\n",
        "from sklearn.feature_extraction.text import TfidfVectorizer, CountVectorizer,HashingVectorizer\n",
        "from sklearn import decomposition, ensemble\n",
        "from sklearn.decomposition import PCA\n",
        "from sklearn.metrics import accuracy_score,f1_score\n",
        "\n",
        "import dask\n",
        "import multiprocessing\n",
        "from joblib import delayed, Parallel, parallel_backend\n"
      ],
      "execution_count": 1,
      "outputs": [
        {
          "output_type": "stream",
          "name": "stderr",
          "text": [
            "[nltk_data] Downloading package stopwords to /root/nltk_data...\n",
            "[nltk_data]   Unzipping corpora/stopwords.zip.\n",
            "[nltk_data] Downloading package wordnet to /root/nltk_data...\n"
          ]
        }
      ]
    },
    {
      "metadata": {
        "id": "Bz8AvnaBeZO_"
      },
      "cell_type": "markdown",
      "source": [
        "### Loading data"
      ]
    },
    {
      "metadata": {
        "trusted": true,
        "id": "53psJ320eZPA"
      },
      "cell_type": "code",
      "source": [
        "cores = multiprocessing.cpu_count()"
      ],
      "execution_count": 2,
      "outputs": []
    },
    {
      "metadata": {
        "_uuid": "d629ff2d2480ee46fbb7e2d37f6b5fab8052498a",
        "_cell_guid": "79c7e3d0-c299-4dcb-8224-4455121ee9b0",
        "trusted": true,
        "id": "gx-qPJigeZPA"
      },
      "cell_type": "code",
      "source": [
        "train_data = pd.read_csv(\"/content/I-Sarcasm_train_.csv\")\n",
        "test_data = pd.read_csv(\"/content/I-Sarcasm_test_.csv\")"
      ],
      "execution_count": 3,
      "outputs": []
    },
    {
      "metadata": {
        "id": "HlHdtVR8eZPB"
      },
      "cell_type": "markdown",
      "source": [
        "### Remove recurring tweets to prevent ambiguity"
      ]
    },
    {
      "metadata": {
        "trusted": true,
        "id": "joPam96_eZPB"
      },
      "cell_type": "code",
      "source": [
        "train_tweets=train_data['tweet'].tolist()\n",
        "test_tweets=test_data['tweet'].tolist()"
      ],
      "execution_count": 8,
      "outputs": []
    },
    {
      "metadata": {
        "trusted": true,
        "id": "Bx2Fnh0weZPB"
      },
      "cell_type": "code",
      "source": [
        "def keep_uniques(array, df):\n",
        "    dels=[]\n",
        "    for i in array:\n",
        "        if array.count(i)>1:\n",
        "            dels.append(i)\n",
        "    dels=list(set(dels))\n",
        "    for i in dels:\n",
        "        df.drop( df[ df['tweet'] == i ].index, inplace=True)\n",
        "    return df"
      ],
      "execution_count": 12,
      "outputs": []
    },
    {
      "metadata": {
        "trusted": true,
        "id": "p144h5--eZPB"
      },
      "cell_type": "code",
      "source": [
        "train_data=keep_uniques(train_tweets, train_data)\n",
        "test_data=keep_uniques(test_tweets, test_data)"
      ],
      "execution_count": 13,
      "outputs": []
    },
    {
      "cell_type": "code",
      "source": [
        "train_data.drop(\"tweet_id\",inplace=True,axis=1)\n",
        "test_data.drop(\"tweet_id\",inplace=True,axis=1)"
      ],
      "metadata": {
        "id": "-ts9Pv_ze5jr"
      },
      "execution_count": 19,
      "outputs": []
    },
    {
      "metadata": {
        "trusted": true,
        "colab": {
          "base_uri": "https://localhost:8080/"
        },
        "id": "MTZPnGfweZPC",
        "outputId": "39d42043-10f5-4582-bfb2-249fd34c9b80"
      },
      "cell_type": "code",
      "source": [
        "len(train_data['tweet'].unique())"
      ],
      "execution_count": 20,
      "outputs": [
        {
          "output_type": "execute_result",
          "data": {
            "text/plain": [
              "3473"
            ]
          },
          "metadata": {},
          "execution_count": 20
        }
      ]
    },
    {
      "metadata": {
        "trusted": true,
        "colab": {
          "base_uri": "https://localhost:8080/"
        },
        "id": "4g2eKxw7eZPC",
        "outputId": "417031bc-387c-4933-9798-e86614064b2e"
      },
      "cell_type": "code",
      "source": [
        "len(test_data['tweet'].unique())"
      ],
      "execution_count": 21,
      "outputs": [
        {
          "output_type": "execute_result",
          "data": {
            "text/plain": [
              "907"
            ]
          },
          "metadata": {},
          "execution_count": 21
        }
      ]
    },
    {
      "metadata": {
        "id": "Fno5cwVReZPC"
      },
      "cell_type": "markdown",
      "source": [
        "### Exploring Dataset"
      ]
    },
    {
      "metadata": {
        "trusted": true,
        "colab": {
          "base_uri": "https://localhost:8080/",
          "height": 143
        },
        "id": "QkZ7eXkueZPC",
        "outputId": "953132e1-8963-4b8f-da40-c8e0a1b2f728"
      },
      "cell_type": "code",
      "source": [
        "train_data.describe().T"
      ],
      "execution_count": 22,
      "outputs": [
        {
          "output_type": "execute_result",
          "data": {
            "text/plain": [
              "              count unique                                                top  \\\n",
              "tweet          3473   3473  #RobertKraft and #TomBrady are innocent.  They...   \n",
              "sarcasm_label  3473      2                                      not_sarcastic   \n",
              "sarcasm_type   1230      7                                            sarcasm   \n",
              "\n",
              "               freq  \n",
              "tweet             1  \n",
              "sarcasm_label  2242  \n",
              "sarcasm_type    854  "
            ],
            "text/html": [
              "\n",
              "  <div id=\"df-c6f76501-16b1-4d6a-b301-d96ee134439d\">\n",
              "    <div class=\"colab-df-container\">\n",
              "      <div>\n",
              "<style scoped>\n",
              "    .dataframe tbody tr th:only-of-type {\n",
              "        vertical-align: middle;\n",
              "    }\n",
              "\n",
              "    .dataframe tbody tr th {\n",
              "        vertical-align: top;\n",
              "    }\n",
              "\n",
              "    .dataframe thead th {\n",
              "        text-align: right;\n",
              "    }\n",
              "</style>\n",
              "<table border=\"1\" class=\"dataframe\">\n",
              "  <thead>\n",
              "    <tr style=\"text-align: right;\">\n",
              "      <th></th>\n",
              "      <th>count</th>\n",
              "      <th>unique</th>\n",
              "      <th>top</th>\n",
              "      <th>freq</th>\n",
              "    </tr>\n",
              "  </thead>\n",
              "  <tbody>\n",
              "    <tr>\n",
              "      <th>tweet</th>\n",
              "      <td>3473</td>\n",
              "      <td>3473</td>\n",
              "      <td>#RobertKraft and #TomBrady are innocent.  They...</td>\n",
              "      <td>1</td>\n",
              "    </tr>\n",
              "    <tr>\n",
              "      <th>sarcasm_label</th>\n",
              "      <td>3473</td>\n",
              "      <td>2</td>\n",
              "      <td>not_sarcastic</td>\n",
              "      <td>2242</td>\n",
              "    </tr>\n",
              "    <tr>\n",
              "      <th>sarcasm_type</th>\n",
              "      <td>1230</td>\n",
              "      <td>7</td>\n",
              "      <td>sarcasm</td>\n",
              "      <td>854</td>\n",
              "    </tr>\n",
              "  </tbody>\n",
              "</table>\n",
              "</div>\n",
              "      <button class=\"colab-df-convert\" onclick=\"convertToInteractive('df-c6f76501-16b1-4d6a-b301-d96ee134439d')\"\n",
              "              title=\"Convert this dataframe to an interactive table.\"\n",
              "              style=\"display:none;\">\n",
              "        \n",
              "  <svg xmlns=\"http://www.w3.org/2000/svg\" height=\"24px\"viewBox=\"0 0 24 24\"\n",
              "       width=\"24px\">\n",
              "    <path d=\"M0 0h24v24H0V0z\" fill=\"none\"/>\n",
              "    <path d=\"M18.56 5.44l.94 2.06.94-2.06 2.06-.94-2.06-.94-.94-2.06-.94 2.06-2.06.94zm-11 1L8.5 8.5l.94-2.06 2.06-.94-2.06-.94L8.5 2.5l-.94 2.06-2.06.94zm10 10l.94 2.06.94-2.06 2.06-.94-2.06-.94-.94-2.06-.94 2.06-2.06.94z\"/><path d=\"M17.41 7.96l-1.37-1.37c-.4-.4-.92-.59-1.43-.59-.52 0-1.04.2-1.43.59L10.3 9.45l-7.72 7.72c-.78.78-.78 2.05 0 2.83L4 21.41c.39.39.9.59 1.41.59.51 0 1.02-.2 1.41-.59l7.78-7.78 2.81-2.81c.8-.78.8-2.07 0-2.86zM5.41 20L4 18.59l7.72-7.72 1.47 1.35L5.41 20z\"/>\n",
              "  </svg>\n",
              "      </button>\n",
              "      \n",
              "  <style>\n",
              "    .colab-df-container {\n",
              "      display:flex;\n",
              "      flex-wrap:wrap;\n",
              "      gap: 12px;\n",
              "    }\n",
              "\n",
              "    .colab-df-convert {\n",
              "      background-color: #E8F0FE;\n",
              "      border: none;\n",
              "      border-radius: 50%;\n",
              "      cursor: pointer;\n",
              "      display: none;\n",
              "      fill: #1967D2;\n",
              "      height: 32px;\n",
              "      padding: 0 0 0 0;\n",
              "      width: 32px;\n",
              "    }\n",
              "\n",
              "    .colab-df-convert:hover {\n",
              "      background-color: #E2EBFA;\n",
              "      box-shadow: 0px 1px 2px rgba(60, 64, 67, 0.3), 0px 1px 3px 1px rgba(60, 64, 67, 0.15);\n",
              "      fill: #174EA6;\n",
              "    }\n",
              "\n",
              "    [theme=dark] .colab-df-convert {\n",
              "      background-color: #3B4455;\n",
              "      fill: #D2E3FC;\n",
              "    }\n",
              "\n",
              "    [theme=dark] .colab-df-convert:hover {\n",
              "      background-color: #434B5C;\n",
              "      box-shadow: 0px 1px 3px 1px rgba(0, 0, 0, 0.15);\n",
              "      filter: drop-shadow(0px 1px 2px rgba(0, 0, 0, 0.3));\n",
              "      fill: #FFFFFF;\n",
              "    }\n",
              "  </style>\n",
              "\n",
              "      <script>\n",
              "        const buttonEl =\n",
              "          document.querySelector('#df-c6f76501-16b1-4d6a-b301-d96ee134439d button.colab-df-convert');\n",
              "        buttonEl.style.display =\n",
              "          google.colab.kernel.accessAllowed ? 'block' : 'none';\n",
              "\n",
              "        async function convertToInteractive(key) {\n",
              "          const element = document.querySelector('#df-c6f76501-16b1-4d6a-b301-d96ee134439d');\n",
              "          const dataTable =\n",
              "            await google.colab.kernel.invokeFunction('convertToInteractive',\n",
              "                                                     [key], {});\n",
              "          if (!dataTable) return;\n",
              "\n",
              "          const docLinkHtml = 'Like what you see? Visit the ' +\n",
              "            '<a target=\"_blank\" href=https://colab.research.google.com/notebooks/data_table.ipynb>data table notebook</a>'\n",
              "            + ' to learn more about interactive tables.';\n",
              "          element.innerHTML = '';\n",
              "          dataTable['output_type'] = 'display_data';\n",
              "          await google.colab.output.renderOutput(dataTable, element);\n",
              "          const docLink = document.createElement('div');\n",
              "          docLink.innerHTML = docLinkHtml;\n",
              "          element.appendChild(docLink);\n",
              "        }\n",
              "      </script>\n",
              "    </div>\n",
              "  </div>\n",
              "  "
            ]
          },
          "metadata": {},
          "execution_count": 22
        }
      ]
    },
    {
      "metadata": {
        "trusted": true,
        "id": "rgVLwKqFeZPD"
      },
      "cell_type": "code",
      "source": [
        "train_data = train_data.sample(frac = 1)\n",
        "test_data = test_data.sample(frac = 1)"
      ],
      "execution_count": 23,
      "outputs": []
    },
    {
      "metadata": {
        "trusted": true,
        "colab": {
          "base_uri": "https://localhost:8080/"
        },
        "id": "EdDK_Ho9eZPD",
        "outputId": "1ab00bd3-8d14-4967-f81e-2c38251521c2"
      },
      "cell_type": "code",
      "source": [
        "train_data['sarcasm_label'].value_counts()"
      ],
      "execution_count": 24,
      "outputs": [
        {
          "output_type": "execute_result",
          "data": {
            "text/plain": [
              "not_sarcastic    2242\n",
              "sarcastic        1231\n",
              "Name: sarcasm_label, dtype: int64"
            ]
          },
          "metadata": {},
          "execution_count": 24
        }
      ]
    },
    {
      "metadata": {
        "id": "cAmt1w2seZPD"
      },
      "cell_type": "markdown",
      "source": [
        "Here, we see that the `regular` class has 18k tweets, which causes our dataset to be imbalanced. So we shall delete some tweets from this class"
      ]
    },
    {
      "metadata": {
        "trusted": true,
        "id": "pqH0y_uMeZPD"
      },
      "cell_type": "code",
      "source": [
        "# temp=train_data.loc[train_data['sarcasm_label'] == 'regular']\n",
        "# lis=temp['tweets'].tolist()\n",
        "\n",
        "# import random\n",
        "# reg_del=[]\n",
        "# visited=set()\n",
        "# for _ in range(3600):\n",
        "#     n=random.randint(0,18556)\n",
        "#     if n not in visited:\n",
        "#         reg_del.append(lis[n])\n",
        "        \n",
        "        \n",
        "# for i in reg_del:\n",
        "#     train_data.drop( train_data[ train_data['tweets'] == i ].index, inplace=True)"
      ],
      "execution_count": 25,
      "outputs": []
    },
    {
      "metadata": {
        "trusted": true,
        "colab": {
          "base_uri": "https://localhost:8080/"
        },
        "id": "XWkUf172eZPD",
        "outputId": "501d66fc-fbad-4f85-f040-ebd77d3a68e1"
      },
      "cell_type": "code",
      "source": [
        "train_data['sarcasm_label'].value_counts()"
      ],
      "execution_count": 26,
      "outputs": [
        {
          "output_type": "execute_result",
          "data": {
            "text/plain": [
              "not_sarcastic    2242\n",
              "sarcastic        1231\n",
              "Name: sarcasm_label, dtype: int64"
            ]
          },
          "metadata": {},
          "execution_count": 26
        }
      ]
    },
    {
      "metadata": {
        "trusted": true,
        "colab": {
          "base_uri": "https://localhost:8080/"
        },
        "id": "j6cGqJqqeZPE",
        "outputId": "88c7c2ba-51dc-4d0d-ae22-c0b8aaa5106f"
      },
      "cell_type": "code",
      "source": [
        "test_data['sarcasm_label'].value_counts()"
      ],
      "execution_count": 27,
      "outputs": [
        {
          "output_type": "execute_result",
          "data": {
            "text/plain": [
              "not_sarcastic    640\n",
              "sarcastic        267\n",
              "Name: sarcasm_label, dtype: int64"
            ]
          },
          "metadata": {},
          "execution_count": 27
        }
      ]
    },
    {
      "cell_type": "code",
      "source": [
        "train_data.drop('sarcasm_type',axis=1,inplace=True)\n",
        "test_data.drop(\"sarcasm_type\",inplace=True,axis=1)"
      ],
      "metadata": {
        "id": "KvUTsAJRfVoC"
      },
      "execution_count": 29,
      "outputs": []
    },
    {
      "metadata": {
        "trusted": true,
        "id": "Bw3lA2hreZPE"
      },
      "cell_type": "code",
      "source": [
        "test_data = test_data.dropna()"
      ],
      "execution_count": 30,
      "outputs": []
    },
    {
      "metadata": {
        "id": "Km8_Wf9seZPE"
      },
      "cell_type": "markdown",
      "source": [
        "## Data Cleaning & Preprocessing"
      ]
    },
    {
      "metadata": {
        "trusted": true,
        "id": "ocFcdHYdeZPE"
      },
      "cell_type": "code",
      "source": [
        "def clean(tweet): \n",
        "    \n",
        "\n",
        "    # Special characters\n",
        "    tweet = re.sub(r\"\\x89Û_\", \"\", tweet)\n",
        "    tweet = re.sub(r\"\\x89ÛÒ\", \"\", tweet)\n",
        "    tweet = re.sub(r\"\\x89ÛÓ\", \"\", tweet)\n",
        "    tweet = re.sub(r\"\\x89ÛÏWhen\", \"When\", tweet)\n",
        "    tweet = re.sub(r\"\\x89ÛÏ\", \"\", tweet)\n",
        "    tweet = re.sub(r\"China\\x89Ûªs\", \"China's\", tweet)\n",
        "    tweet = re.sub(r\"let\\x89Ûªs\", \"let's\", tweet)\n",
        "    tweet = re.sub(r\"\\x89Û÷\", \"\", tweet)\n",
        "    tweet = re.sub(r\"\\x89Ûª\", \"\", tweet)\n",
        "    tweet = re.sub(r\"\\x89Û\\x9d\", \"\", tweet)\n",
        "    tweet = re.sub(r\"å_\", \"\", tweet)\n",
        "    tweet = re.sub(r\"\\x89Û¢\", \"\", tweet)\n",
        "    tweet = re.sub(r\"\\x89Û¢åÊ\", \"\", tweet)\n",
        "    tweet = re.sub(r\"fromåÊwounds\", \"from wounds\", tweet)\n",
        "    tweet = re.sub(r\"åÊ\", \"\", tweet)\n",
        "    tweet = re.sub(r\"åÈ\", \"\", tweet)\n",
        "    tweet = re.sub(r\"JapÌ_n\", \"Japan\", tweet)    \n",
        "    tweet = re.sub(r\"Ì©\", \"e\", tweet)\n",
        "    tweet = re.sub(r\"å¨\", \"\", tweet)\n",
        "    tweet = re.sub(r\"SuruÌ¤\", \"Suruc\", tweet)\n",
        "    tweet = re.sub(r\"åÇ\", \"\", tweet)\n",
        "    tweet = re.sub(r\"å£3million\", \"3 million\", tweet)\n",
        "    tweet = re.sub(r\"åÀ\", \"\", tweet)\n",
        "    \n",
        "    #emojis\n",
        "    emoji_pattern = re.compile(\n",
        "        '['\n",
        "        u'\\U0001F600-\\U0001F64F'  # emoticons\n",
        "        u'\\U0001F300-\\U0001F5FF'  # symbols & pictographs\n",
        "        u'\\U0001F680-\\U0001F6FF'  # transport & map symbols\n",
        "        u'\\U0001F1E0-\\U0001F1FF'  # flags\n",
        "        u'\\U00002702-\\U000027B0'\n",
        "        u'\\U000024C2-\\U0001F251'\n",
        "        ']+',\n",
        "        flags=re.UNICODE)\n",
        "    tweet =  emoji_pattern.sub(r'', tweet)\n",
        "    \n",
        "    # usernames mentions like \"@abc123\"\n",
        "    ment = re.compile(r\"(@[A-Za-z0-9]+)\")\n",
        "    tweet =  ment.sub(r'', tweet)\n",
        "    \n",
        "    # Contractions\n",
        "    tweet = re.sub(r\"he's\", \"he is\", tweet)\n",
        "    tweet = re.sub(r\"there's\", \"there is\", tweet)\n",
        "    tweet = re.sub(r\"We're\", \"We are\", tweet)\n",
        "    tweet = re.sub(r\"That's\", \"That is\", tweet)\n",
        "    tweet = re.sub(r\"won't\", \"will not\", tweet)\n",
        "    tweet = re.sub(r\"they're\", \"they are\", tweet)\n",
        "    tweet = re.sub(r\"Can't\", \"Cannot\", tweet)\n",
        "    tweet = re.sub(r\"wasn't\", \"was not\", tweet)\n",
        "    tweet = re.sub(r\"don\\x89Ûªt\", \"do not\", tweet)\n",
        "    tweet = re.sub(r\"aren't\", \"are not\", tweet)\n",
        "    tweet = re.sub(r\"isn't\", \"is not\", tweet)\n",
        "    tweet = re.sub(r\"What's\", \"What is\", tweet)\n",
        "    tweet = re.sub(r\"haven't\", \"have not\", tweet)\n",
        "    tweet = re.sub(r\"hasn't\", \"has not\", tweet)\n",
        "    tweet = re.sub(r\"There's\", \"There is\", tweet)\n",
        "    tweet = re.sub(r\"He's\", \"He is\", tweet)\n",
        "    tweet = re.sub(r\"It's\", \"It is\", tweet)\n",
        "    tweet = re.sub(r\"You're\", \"You are\", tweet)\n",
        "    tweet = re.sub(r\"I'M\", \"I am\", tweet)\n",
        "    tweet = re.sub(r\"shouldn't\", \"should not\", tweet)\n",
        "    tweet = re.sub(r\"wouldn't\", \"would not\", tweet)\n",
        "    tweet = re.sub(r\"i'm\", \"I am\", tweet)\n",
        "    tweet = re.sub(r\"I\\x89Ûªm\", \"I am\", tweet)\n",
        "    tweet = re.sub(r\"I'm\", \"I am\", tweet)\n",
        "    tweet = re.sub(r\"Isn't\", \"is not\", tweet)\n",
        "    tweet = re.sub(r\"Here's\", \"Here is\", tweet)\n",
        "    tweet = re.sub(r\"you've\", \"you have\", tweet)\n",
        "    tweet = re.sub(r\"you\\x89Ûªve\", \"you have\", tweet)\n",
        "    tweet = re.sub(r\"we're\", \"we are\", tweet)\n",
        "    tweet = re.sub(r\"what's\", \"what is\", tweet)\n",
        "    tweet = re.sub(r\"couldn't\", \"could not\", tweet)\n",
        "    tweet = re.sub(r\"we've\", \"we have\", tweet)\n",
        "    tweet = re.sub(r\"it\\x89Ûªs\", \"it is\", tweet)\n",
        "    tweet = re.sub(r\"doesn\\x89Ûªt\", \"does not\", tweet)\n",
        "    tweet = re.sub(r\"It\\x89Ûªs\", \"It is\", tweet)\n",
        "    tweet = re.sub(r\"Here\\x89Ûªs\", \"Here is\", tweet)\n",
        "    tweet = re.sub(r\"who's\", \"who is\", tweet)\n",
        "    tweet = re.sub(r\"I\\x89Ûªve\", \"I have\", tweet)\n",
        "    tweet = re.sub(r\"y'all\", \"you all\", tweet)\n",
        "    tweet = re.sub(r\"can\\x89Ûªt\", \"cannot\", tweet)\n",
        "    tweet = re.sub(r\"would've\", \"would have\", tweet)\n",
        "    tweet = re.sub(r\"it'll\", \"it will\", tweet)\n",
        "    tweet = re.sub(r\"we'll\", \"we will\", tweet)\n",
        "    tweet = re.sub(r\"wouldn\\x89Ûªt\", \"would not\", tweet)\n",
        "    tweet = re.sub(r\"We've\", \"We have\", tweet)\n",
        "    tweet = re.sub(r\"he'll\", \"he will\", tweet)\n",
        "    tweet = re.sub(r\"Y'all\", \"You all\", tweet)\n",
        "    tweet = re.sub(r\"Weren't\", \"Were not\", tweet)\n",
        "    tweet = re.sub(r\"Didn't\", \"Did not\", tweet)\n",
        "    tweet = re.sub(r\"they'll\", \"they will\", tweet)\n",
        "    tweet = re.sub(r\"they'd\", \"they would\", tweet)\n",
        "    tweet = re.sub(r\"DON'T\", \"DO NOT\", tweet)\n",
        "    tweet = re.sub(r\"That\\x89Ûªs\", \"That is\", tweet)\n",
        "    tweet = re.sub(r\"they've\", \"they have\", tweet)\n",
        "    tweet = re.sub(r\"i'd\", \"I would\", tweet)\n",
        "    tweet = re.sub(r\"should've\", \"should have\", tweet)\n",
        "    tweet = re.sub(r\"You\\x89Ûªre\", \"You are\", tweet)\n",
        "    tweet = re.sub(r\"where's\", \"where is\", tweet)\n",
        "    tweet = re.sub(r\"Don\\x89Ûªt\", \"Do not\", tweet)\n",
        "    tweet = re.sub(r\"we'd\", \"we would\", tweet)\n",
        "    tweet = re.sub(r\"i'll\", \"I will\", tweet)\n",
        "    tweet = re.sub(r\"weren't\", \"were not\", tweet)\n",
        "    tweet = re.sub(r\"They're\", \"They are\", tweet)\n",
        "    tweet = re.sub(r\"Can\\x89Ûªt\", \"Cannot\", tweet)\n",
        "    tweet = re.sub(r\"you\\x89Ûªll\", \"you will\", tweet)\n",
        "    tweet = re.sub(r\"I\\x89Ûªd\", \"I would\", tweet)\n",
        "    tweet = re.sub(r\"let's\", \"let us\", tweet)\n",
        "    tweet = re.sub(r\"it's\", \"it is\", tweet)\n",
        "    tweet = re.sub(r\"can't\", \"cannot\", tweet)\n",
        "    tweet = re.sub(r\"don't\", \"do not\", tweet)\n",
        "    tweet = re.sub(r\"you're\", \"you are\", tweet)\n",
        "    tweet = re.sub(r\"i've\", \"I have\", tweet)\n",
        "    tweet = re.sub(r\"that's\", \"that is\", tweet)\n",
        "    tweet = re.sub(r\"i'll\", \"I will\", tweet)\n",
        "    tweet = re.sub(r\"doesn't\", \"does not\", tweet)\n",
        "    tweet = re.sub(r\"i'd\", \"I would\", tweet)\n",
        "    tweet = re.sub(r\"didn't\", \"did not\", tweet)\n",
        "    tweet = re.sub(r\"ain't\", \"am not\", tweet)\n",
        "    tweet = re.sub(r\"you'll\", \"you will\", tweet)\n",
        "    tweet = re.sub(r\"I've\", \"I have\", tweet)\n",
        "    tweet = re.sub(r\"Don't\", \"do not\", tweet)\n",
        "    tweet = re.sub(r\"I'll\", \"I will\", tweet)\n",
        "    tweet = re.sub(r\"I'd\", \"I would\", tweet)\n",
        "    tweet = re.sub(r\"Let's\", \"Let us\", tweet)\n",
        "    tweet = re.sub(r\"you'd\", \"You would\", tweet)\n",
        "    tweet = re.sub(r\"It's\", \"It is\", tweet)\n",
        "    tweet = re.sub(r\"Ain't\", \"am not\", tweet)\n",
        "    tweet = re.sub(r\"Haven't\", \"Have not\", tweet)\n",
        "    tweet = re.sub(r\"Could've\", \"Could have\", tweet)\n",
        "    tweet = re.sub(r\"youve\", \"you have\", tweet)  \n",
        "    tweet = re.sub(r\"donå«t\", \"do not\", tweet)   \n",
        "            \n",
        "    # Character entity references\n",
        "    tweet = re.sub(r\"&amp;\", \"&\", tweet)\n",
        "    \n",
        "    # html tags\n",
        "    html = re.compile(r'<.*?>|&([a-z0-9]+|#[0-9]{1,6}|#x[0-9a-f]{1,6});')\n",
        "    tweet = re.sub(html, '', tweet)\n",
        "    \n",
        "    # Urls\n",
        "    tweet = re.sub(r\"https?:\\/\\/t.co\\/[A-Za-z0-9]+\", \"\", tweet)\n",
        "    tweet = re.sub(r'https?://\\S+|www\\.\\S+','', tweet)\n",
        "        \n",
        "    #Punctuations and special characters\n",
        "    \n",
        "    tweet = re.sub('[%s]' % re.escape(string.punctuation),'',tweet)\n",
        "    \n",
        "    tweet = tweet.lower()\n",
        "    \n",
        "    splits = tweet.split()\n",
        "    splits = [word for word in splits if word not in set(nltk.corpus.stopwords.words('english'))]\n",
        "    tweet = ' '.join(splits)\n",
        "    \n",
        "    \n",
        "    return tweet"
      ],
      "execution_count": 31,
      "outputs": []
    },
    {
      "metadata": {
        "trusted": true,
        "colab": {
          "base_uri": "https://localhost:8080/"
        },
        "id": "w3OiP02CeZPF",
        "outputId": "beab8ec1-b3db-4567-a4b4-0863f674f649"
      },
      "cell_type": "code",
      "source": [
        "train_data['cleaned_text']= train_data['tweet'].apply((lambda x: clean(x))) \n",
        "test_data['cleaned_text'] = test_data['tweet'].apply((lambda x: clean(x)))\n",
        "print(\"Cleaned\")"
      ],
      "execution_count": 33,
      "outputs": [
        {
          "output_type": "stream",
          "name": "stdout",
          "text": [
            "Cleaned\n"
          ]
        }
      ]
    },
    {
      "metadata": {
        "trusted": true,
        "colab": {
          "base_uri": "https://localhost:8080/",
          "height": 206
        },
        "id": "pLP7JgVDeZPF",
        "outputId": "939d2f90-ce23-42b3-e5e9-5971c43895e6"
      },
      "cell_type": "code",
      "source": [
        "train_data.head()"
      ],
      "execution_count": 34,
      "outputs": [
        {
          "output_type": "execute_result",
          "data": {
            "text/plain": [
              "                                                  tweet  sarcasm_label  \\\n",
              "2927               A funny thing happened to me. #Humor  not_sarcastic   \n",
              "2588  I'm pretty sure this isn't right #a34 #Newbury...  not_sarcastic   \n",
              "582   Can I pay anyone to put my bins out? This job ...      sarcastic   \n",
              "2604  Daily #War on #Drugs is out! http://t.co/5Q9Ws...  not_sarcastic   \n",
              "2107  @formetopoupon but Poupon, if they didn't have...      sarcastic   \n",
              "\n",
              "                                           cleaned_text  \n",
              "2927                         funny thing happened humor  \n",
              "2588  pretty sure right a34 newbury accident late wo...  \n",
              "582    pay anyone put bins job hurts soul overstatement  \n",
              "2604                        daily war drugs stories via  \n",
              "2107  poupon boobies would know ladies literally way...  "
            ],
            "text/html": [
              "\n",
              "  <div id=\"df-9e12cf61-b18a-4fe5-b348-9a299ab49308\">\n",
              "    <div class=\"colab-df-container\">\n",
              "      <div>\n",
              "<style scoped>\n",
              "    .dataframe tbody tr th:only-of-type {\n",
              "        vertical-align: middle;\n",
              "    }\n",
              "\n",
              "    .dataframe tbody tr th {\n",
              "        vertical-align: top;\n",
              "    }\n",
              "\n",
              "    .dataframe thead th {\n",
              "        text-align: right;\n",
              "    }\n",
              "</style>\n",
              "<table border=\"1\" class=\"dataframe\">\n",
              "  <thead>\n",
              "    <tr style=\"text-align: right;\">\n",
              "      <th></th>\n",
              "      <th>tweet</th>\n",
              "      <th>sarcasm_label</th>\n",
              "      <th>cleaned_text</th>\n",
              "    </tr>\n",
              "  </thead>\n",
              "  <tbody>\n",
              "    <tr>\n",
              "      <th>2927</th>\n",
              "      <td>A funny thing happened to me. #Humor</td>\n",
              "      <td>not_sarcastic</td>\n",
              "      <td>funny thing happened humor</td>\n",
              "    </tr>\n",
              "    <tr>\n",
              "      <th>2588</th>\n",
              "      <td>I'm pretty sure this isn't right #a34 #Newbury...</td>\n",
              "      <td>not_sarcastic</td>\n",
              "      <td>pretty sure right a34 newbury accident late wo...</td>\n",
              "    </tr>\n",
              "    <tr>\n",
              "      <th>582</th>\n",
              "      <td>Can I pay anyone to put my bins out? This job ...</td>\n",
              "      <td>sarcastic</td>\n",
              "      <td>pay anyone put bins job hurts soul overstatement</td>\n",
              "    </tr>\n",
              "    <tr>\n",
              "      <th>2604</th>\n",
              "      <td>Daily #War on #Drugs is out! http://t.co/5Q9Ws...</td>\n",
              "      <td>not_sarcastic</td>\n",
              "      <td>daily war drugs stories via</td>\n",
              "    </tr>\n",
              "    <tr>\n",
              "      <th>2107</th>\n",
              "      <td>@formetopoupon but Poupon, if they didn't have...</td>\n",
              "      <td>sarcastic</td>\n",
              "      <td>poupon boobies would know ladies literally way...</td>\n",
              "    </tr>\n",
              "  </tbody>\n",
              "</table>\n",
              "</div>\n",
              "      <button class=\"colab-df-convert\" onclick=\"convertToInteractive('df-9e12cf61-b18a-4fe5-b348-9a299ab49308')\"\n",
              "              title=\"Convert this dataframe to an interactive table.\"\n",
              "              style=\"display:none;\">\n",
              "        \n",
              "  <svg xmlns=\"http://www.w3.org/2000/svg\" height=\"24px\"viewBox=\"0 0 24 24\"\n",
              "       width=\"24px\">\n",
              "    <path d=\"M0 0h24v24H0V0z\" fill=\"none\"/>\n",
              "    <path d=\"M18.56 5.44l.94 2.06.94-2.06 2.06-.94-2.06-.94-.94-2.06-.94 2.06-2.06.94zm-11 1L8.5 8.5l.94-2.06 2.06-.94-2.06-.94L8.5 2.5l-.94 2.06-2.06.94zm10 10l.94 2.06.94-2.06 2.06-.94-2.06-.94-.94-2.06-.94 2.06-2.06.94z\"/><path d=\"M17.41 7.96l-1.37-1.37c-.4-.4-.92-.59-1.43-.59-.52 0-1.04.2-1.43.59L10.3 9.45l-7.72 7.72c-.78.78-.78 2.05 0 2.83L4 21.41c.39.39.9.59 1.41.59.51 0 1.02-.2 1.41-.59l7.78-7.78 2.81-2.81c.8-.78.8-2.07 0-2.86zM5.41 20L4 18.59l7.72-7.72 1.47 1.35L5.41 20z\"/>\n",
              "  </svg>\n",
              "      </button>\n",
              "      \n",
              "  <style>\n",
              "    .colab-df-container {\n",
              "      display:flex;\n",
              "      flex-wrap:wrap;\n",
              "      gap: 12px;\n",
              "    }\n",
              "\n",
              "    .colab-df-convert {\n",
              "      background-color: #E8F0FE;\n",
              "      border: none;\n",
              "      border-radius: 50%;\n",
              "      cursor: pointer;\n",
              "      display: none;\n",
              "      fill: #1967D2;\n",
              "      height: 32px;\n",
              "      padding: 0 0 0 0;\n",
              "      width: 32px;\n",
              "    }\n",
              "\n",
              "    .colab-df-convert:hover {\n",
              "      background-color: #E2EBFA;\n",
              "      box-shadow: 0px 1px 2px rgba(60, 64, 67, 0.3), 0px 1px 3px 1px rgba(60, 64, 67, 0.15);\n",
              "      fill: #174EA6;\n",
              "    }\n",
              "\n",
              "    [theme=dark] .colab-df-convert {\n",
              "      background-color: #3B4455;\n",
              "      fill: #D2E3FC;\n",
              "    }\n",
              "\n",
              "    [theme=dark] .colab-df-convert:hover {\n",
              "      background-color: #434B5C;\n",
              "      box-shadow: 0px 1px 3px 1px rgba(0, 0, 0, 0.15);\n",
              "      filter: drop-shadow(0px 1px 2px rgba(0, 0, 0, 0.3));\n",
              "      fill: #FFFFFF;\n",
              "    }\n",
              "  </style>\n",
              "\n",
              "      <script>\n",
              "        const buttonEl =\n",
              "          document.querySelector('#df-9e12cf61-b18a-4fe5-b348-9a299ab49308 button.colab-df-convert');\n",
              "        buttonEl.style.display =\n",
              "          google.colab.kernel.accessAllowed ? 'block' : 'none';\n",
              "\n",
              "        async function convertToInteractive(key) {\n",
              "          const element = document.querySelector('#df-9e12cf61-b18a-4fe5-b348-9a299ab49308');\n",
              "          const dataTable =\n",
              "            await google.colab.kernel.invokeFunction('convertToInteractive',\n",
              "                                                     [key], {});\n",
              "          if (!dataTable) return;\n",
              "\n",
              "          const docLinkHtml = 'Like what you see? Visit the ' +\n",
              "            '<a target=\"_blank\" href=https://colab.research.google.com/notebooks/data_table.ipynb>data table notebook</a>'\n",
              "            + ' to learn more about interactive tables.';\n",
              "          element.innerHTML = '';\n",
              "          dataTable['output_type'] = 'display_data';\n",
              "          await google.colab.output.renderOutput(dataTable, element);\n",
              "          const docLink = document.createElement('div');\n",
              "          docLink.innerHTML = docLinkHtml;\n",
              "          element.appendChild(docLink);\n",
              "        }\n",
              "      </script>\n",
              "    </div>\n",
              "  </div>\n",
              "  "
            ]
          },
          "metadata": {},
          "execution_count": 34
        }
      ]
    },
    {
      "metadata": {
        "id": "rvQw8OrxeZPF"
      },
      "cell_type": "markdown",
      "source": [
        "## EDA and Visualization"
      ]
    },
    {
      "metadata": {
        "trusted": true,
        "id": "Gn5HsnBteZPF"
      },
      "cell_type": "code",
      "source": [
        "# sns.set(rc={'figure.figsize':(10,10)})\n",
        "# sns.countplot(train_data['class'])"
      ],
      "execution_count": 35,
      "outputs": []
    },
    {
      "metadata": {
        "trusted": true,
        "id": "9rJss4JKeZPF"
      },
      "cell_type": "code",
      "source": [
        "# from wordcloud import WordCloud\n",
        "# stopwords = nltk.corpus.stopwords.words('english')\n",
        "\n",
        "# plt.figure(figsize=(12,6))\n",
        "# text = ' '.join(train_data.cleaned_text[train_data['class']=='regular'])\n",
        "# wc = WordCloud(background_color='white',stopwords=stopwords).generate(text)\n",
        "# plt.imshow(wc)\n",
        "# plt.axis('off')\n",
        "# plt.title('Regular Tweets',fontsize=25)\n",
        "\n",
        "# plt.figure(figsize=(12,6))\n",
        "# text = ' '.join(train_data.cleaned_text[train_data['class']=='irony'])\n",
        "# wc1 = WordCloud(background_color='white',stopwords=stopwords).generate(text)\n",
        "# plt.imshow(wc1)\n",
        "# plt.axis('off')\n",
        "# plt.title('Irony Tweets',fontsize=25)\n",
        "\n",
        "# plt.figure(figsize=(12,6))\n",
        "# text = ' '.join(train_data.cleaned_text[train_data['class']=='sarcasm'])\n",
        "# wc2 = WordCloud(background_color='white',stopwords=stopwords).generate(text)\n",
        "# plt.imshow(wc2)\n",
        "# plt.axis('off')\n",
        "# plt.title('Sarcasm Tweets',fontsize=25)\n",
        "\n",
        "# plt.figure(figsize=(12,6))\n",
        "# text = ' '.join(train_data.cleaned_text[train_data['class']=='figurative'])\n",
        "# wc3 = WordCloud(background_color='white',stopwords=stopwords).generate(text)\n",
        "# plt.imshow(wc3)\n",
        "# plt.axis('off')\n",
        "# plt.title('Figurative Tweets',fontsize=25)"
      ],
      "execution_count": 36,
      "outputs": []
    },
    {
      "metadata": {
        "id": "M_Z4LLbHeZPF"
      },
      "cell_type": "markdown",
      "source": [
        "### Encode our text classes"
      ]
    },
    {
      "metadata": {
        "trusted": true,
        "id": "GMIHPGhWeZPG"
      },
      "cell_type": "code",
      "source": [
        "def encode_target(t_class):\n",
        "    t_class=str(t_class)\n",
        "    class_dict = {\n",
        "        'not_sarcastic':0,\n",
        "        'sarcastic':1\n",
        "    }\n",
        "    return class_dict[t_class]"
      ],
      "execution_count": 39,
      "outputs": []
    },
    {
      "metadata": {
        "trusted": true,
        "id": "qTpaV6vXeZPG"
      },
      "cell_type": "code",
      "source": [
        "train_data[\"target\"] = train_data['sarcasm_label'].apply(lambda x: encode_target(x))\n",
        "test_data[\"target\"] = test_data['sarcasm_label'].apply(lambda x: encode_target(x))"
      ],
      "execution_count": 40,
      "outputs": []
    },
    {
      "metadata": {
        "id": "hT3Fr9LReZPG"
      },
      "cell_type": "markdown",
      "source": [
        "### Preparing our train and test sets"
      ]
    },
    {
      "metadata": {
        "trusted": true,
        "id": "4hWZ5vB6eZPG"
      },
      "cell_type": "code",
      "source": [
        "train = train_data[['cleaned_text','target']]\n",
        "train.columns = ['text','labels']\n",
        "\n",
        "test = test_data[['cleaned_text','target']]\n",
        "test.columns = ['text','labels']"
      ],
      "execution_count": 41,
      "outputs": []
    },
    {
      "metadata": {
        "trusted": true,
        "colab": {
          "base_uri": "https://localhost:8080/",
          "height": 206
        },
        "id": "DbM6CjSLeZPG",
        "outputId": "ec63ad21-252b-4fe4-e487-ed263d04741b"
      },
      "cell_type": "code",
      "source": [
        "train.head()"
      ],
      "execution_count": 42,
      "outputs": [
        {
          "output_type": "execute_result",
          "data": {
            "text/plain": [
              "                                                   text  labels\n",
              "2927                         funny thing happened humor       0\n",
              "2588  pretty sure right a34 newbury accident late wo...       0\n",
              "582    pay anyone put bins job hurts soul overstatement       1\n",
              "2604                        daily war drugs stories via       0\n",
              "2107  poupon boobies would know ladies literally way...       1"
            ],
            "text/html": [
              "\n",
              "  <div id=\"df-97058b27-896f-4a2a-8a04-9edd4ab1ae50\">\n",
              "    <div class=\"colab-df-container\">\n",
              "      <div>\n",
              "<style scoped>\n",
              "    .dataframe tbody tr th:only-of-type {\n",
              "        vertical-align: middle;\n",
              "    }\n",
              "\n",
              "    .dataframe tbody tr th {\n",
              "        vertical-align: top;\n",
              "    }\n",
              "\n",
              "    .dataframe thead th {\n",
              "        text-align: right;\n",
              "    }\n",
              "</style>\n",
              "<table border=\"1\" class=\"dataframe\">\n",
              "  <thead>\n",
              "    <tr style=\"text-align: right;\">\n",
              "      <th></th>\n",
              "      <th>text</th>\n",
              "      <th>labels</th>\n",
              "    </tr>\n",
              "  </thead>\n",
              "  <tbody>\n",
              "    <tr>\n",
              "      <th>2927</th>\n",
              "      <td>funny thing happened humor</td>\n",
              "      <td>0</td>\n",
              "    </tr>\n",
              "    <tr>\n",
              "      <th>2588</th>\n",
              "      <td>pretty sure right a34 newbury accident late wo...</td>\n",
              "      <td>0</td>\n",
              "    </tr>\n",
              "    <tr>\n",
              "      <th>582</th>\n",
              "      <td>pay anyone put bins job hurts soul overstatement</td>\n",
              "      <td>1</td>\n",
              "    </tr>\n",
              "    <tr>\n",
              "      <th>2604</th>\n",
              "      <td>daily war drugs stories via</td>\n",
              "      <td>0</td>\n",
              "    </tr>\n",
              "    <tr>\n",
              "      <th>2107</th>\n",
              "      <td>poupon boobies would know ladies literally way...</td>\n",
              "      <td>1</td>\n",
              "    </tr>\n",
              "  </tbody>\n",
              "</table>\n",
              "</div>\n",
              "      <button class=\"colab-df-convert\" onclick=\"convertToInteractive('df-97058b27-896f-4a2a-8a04-9edd4ab1ae50')\"\n",
              "              title=\"Convert this dataframe to an interactive table.\"\n",
              "              style=\"display:none;\">\n",
              "        \n",
              "  <svg xmlns=\"http://www.w3.org/2000/svg\" height=\"24px\"viewBox=\"0 0 24 24\"\n",
              "       width=\"24px\">\n",
              "    <path d=\"M0 0h24v24H0V0z\" fill=\"none\"/>\n",
              "    <path d=\"M18.56 5.44l.94 2.06.94-2.06 2.06-.94-2.06-.94-.94-2.06-.94 2.06-2.06.94zm-11 1L8.5 8.5l.94-2.06 2.06-.94-2.06-.94L8.5 2.5l-.94 2.06-2.06.94zm10 10l.94 2.06.94-2.06 2.06-.94-2.06-.94-.94-2.06-.94 2.06-2.06.94z\"/><path d=\"M17.41 7.96l-1.37-1.37c-.4-.4-.92-.59-1.43-.59-.52 0-1.04.2-1.43.59L10.3 9.45l-7.72 7.72c-.78.78-.78 2.05 0 2.83L4 21.41c.39.39.9.59 1.41.59.51 0 1.02-.2 1.41-.59l7.78-7.78 2.81-2.81c.8-.78.8-2.07 0-2.86zM5.41 20L4 18.59l7.72-7.72 1.47 1.35L5.41 20z\"/>\n",
              "  </svg>\n",
              "      </button>\n",
              "      \n",
              "  <style>\n",
              "    .colab-df-container {\n",
              "      display:flex;\n",
              "      flex-wrap:wrap;\n",
              "      gap: 12px;\n",
              "    }\n",
              "\n",
              "    .colab-df-convert {\n",
              "      background-color: #E8F0FE;\n",
              "      border: none;\n",
              "      border-radius: 50%;\n",
              "      cursor: pointer;\n",
              "      display: none;\n",
              "      fill: #1967D2;\n",
              "      height: 32px;\n",
              "      padding: 0 0 0 0;\n",
              "      width: 32px;\n",
              "    }\n",
              "\n",
              "    .colab-df-convert:hover {\n",
              "      background-color: #E2EBFA;\n",
              "      box-shadow: 0px 1px 2px rgba(60, 64, 67, 0.3), 0px 1px 3px 1px rgba(60, 64, 67, 0.15);\n",
              "      fill: #174EA6;\n",
              "    }\n",
              "\n",
              "    [theme=dark] .colab-df-convert {\n",
              "      background-color: #3B4455;\n",
              "      fill: #D2E3FC;\n",
              "    }\n",
              "\n",
              "    [theme=dark] .colab-df-convert:hover {\n",
              "      background-color: #434B5C;\n",
              "      box-shadow: 0px 1px 3px 1px rgba(0, 0, 0, 0.15);\n",
              "      filter: drop-shadow(0px 1px 2px rgba(0, 0, 0, 0.3));\n",
              "      fill: #FFFFFF;\n",
              "    }\n",
              "  </style>\n",
              "\n",
              "      <script>\n",
              "        const buttonEl =\n",
              "          document.querySelector('#df-97058b27-896f-4a2a-8a04-9edd4ab1ae50 button.colab-df-convert');\n",
              "        buttonEl.style.display =\n",
              "          google.colab.kernel.accessAllowed ? 'block' : 'none';\n",
              "\n",
              "        async function convertToInteractive(key) {\n",
              "          const element = document.querySelector('#df-97058b27-896f-4a2a-8a04-9edd4ab1ae50');\n",
              "          const dataTable =\n",
              "            await google.colab.kernel.invokeFunction('convertToInteractive',\n",
              "                                                     [key], {});\n",
              "          if (!dataTable) return;\n",
              "\n",
              "          const docLinkHtml = 'Like what you see? Visit the ' +\n",
              "            '<a target=\"_blank\" href=https://colab.research.google.com/notebooks/data_table.ipynb>data table notebook</a>'\n",
              "            + ' to learn more about interactive tables.';\n",
              "          element.innerHTML = '';\n",
              "          dataTable['output_type'] = 'display_data';\n",
              "          await google.colab.output.renderOutput(dataTable, element);\n",
              "          const docLink = document.createElement('div');\n",
              "          docLink.innerHTML = docLinkHtml;\n",
              "          element.appendChild(docLink);\n",
              "        }\n",
              "      </script>\n",
              "    </div>\n",
              "  </div>\n",
              "  "
            ]
          },
          "metadata": {},
          "execution_count": 42
        }
      ]
    },
    {
      "metadata": {
        "trusted": true,
        "colab": {
          "base_uri": "https://localhost:8080/",
          "height": 206
        },
        "id": "1GyCMhfReZPG",
        "outputId": "17e5011d-6283-4712-99e1-5e8cfdbfa2ba"
      },
      "cell_type": "code",
      "source": [
        "test.head()"
      ],
      "execution_count": 43,
      "outputs": [
        {
          "output_type": "execute_result",
          "data": {
            "text/plain": [
              "                                                  text  labels\n",
              "890        love parents get pissed dumb reason sarcasm       1\n",
              "457    sneezing attack bad neck pain great day sarcasm       1\n",
              "647                           mexico love babies drugs       0\n",
              "671                 mood impressed ðÿ˜‚ðÿ˜‚ humor joke       0\n",
              "116  michelle obama jokes life white house â€˜the l...       0"
            ],
            "text/html": [
              "\n",
              "  <div id=\"df-5eb63f0c-2291-4cf2-a1b0-91f092578e6d\">\n",
              "    <div class=\"colab-df-container\">\n",
              "      <div>\n",
              "<style scoped>\n",
              "    .dataframe tbody tr th:only-of-type {\n",
              "        vertical-align: middle;\n",
              "    }\n",
              "\n",
              "    .dataframe tbody tr th {\n",
              "        vertical-align: top;\n",
              "    }\n",
              "\n",
              "    .dataframe thead th {\n",
              "        text-align: right;\n",
              "    }\n",
              "</style>\n",
              "<table border=\"1\" class=\"dataframe\">\n",
              "  <thead>\n",
              "    <tr style=\"text-align: right;\">\n",
              "      <th></th>\n",
              "      <th>text</th>\n",
              "      <th>labels</th>\n",
              "    </tr>\n",
              "  </thead>\n",
              "  <tbody>\n",
              "    <tr>\n",
              "      <th>890</th>\n",
              "      <td>love parents get pissed dumb reason sarcasm</td>\n",
              "      <td>1</td>\n",
              "    </tr>\n",
              "    <tr>\n",
              "      <th>457</th>\n",
              "      <td>sneezing attack bad neck pain great day sarcasm</td>\n",
              "      <td>1</td>\n",
              "    </tr>\n",
              "    <tr>\n",
              "      <th>647</th>\n",
              "      <td>mexico love babies drugs</td>\n",
              "      <td>0</td>\n",
              "    </tr>\n",
              "    <tr>\n",
              "      <th>671</th>\n",
              "      <td>mood impressed ðÿ˜‚ðÿ˜‚ humor joke</td>\n",
              "      <td>0</td>\n",
              "    </tr>\n",
              "    <tr>\n",
              "      <th>116</th>\n",
              "      <td>michelle obama jokes life white house â€˜the l...</td>\n",
              "      <td>0</td>\n",
              "    </tr>\n",
              "  </tbody>\n",
              "</table>\n",
              "</div>\n",
              "      <button class=\"colab-df-convert\" onclick=\"convertToInteractive('df-5eb63f0c-2291-4cf2-a1b0-91f092578e6d')\"\n",
              "              title=\"Convert this dataframe to an interactive table.\"\n",
              "              style=\"display:none;\">\n",
              "        \n",
              "  <svg xmlns=\"http://www.w3.org/2000/svg\" height=\"24px\"viewBox=\"0 0 24 24\"\n",
              "       width=\"24px\">\n",
              "    <path d=\"M0 0h24v24H0V0z\" fill=\"none\"/>\n",
              "    <path d=\"M18.56 5.44l.94 2.06.94-2.06 2.06-.94-2.06-.94-.94-2.06-.94 2.06-2.06.94zm-11 1L8.5 8.5l.94-2.06 2.06-.94-2.06-.94L8.5 2.5l-.94 2.06-2.06.94zm10 10l.94 2.06.94-2.06 2.06-.94-2.06-.94-.94-2.06-.94 2.06-2.06.94z\"/><path d=\"M17.41 7.96l-1.37-1.37c-.4-.4-.92-.59-1.43-.59-.52 0-1.04.2-1.43.59L10.3 9.45l-7.72 7.72c-.78.78-.78 2.05 0 2.83L4 21.41c.39.39.9.59 1.41.59.51 0 1.02-.2 1.41-.59l7.78-7.78 2.81-2.81c.8-.78.8-2.07 0-2.86zM5.41 20L4 18.59l7.72-7.72 1.47 1.35L5.41 20z\"/>\n",
              "  </svg>\n",
              "      </button>\n",
              "      \n",
              "  <style>\n",
              "    .colab-df-container {\n",
              "      display:flex;\n",
              "      flex-wrap:wrap;\n",
              "      gap: 12px;\n",
              "    }\n",
              "\n",
              "    .colab-df-convert {\n",
              "      background-color: #E8F0FE;\n",
              "      border: none;\n",
              "      border-radius: 50%;\n",
              "      cursor: pointer;\n",
              "      display: none;\n",
              "      fill: #1967D2;\n",
              "      height: 32px;\n",
              "      padding: 0 0 0 0;\n",
              "      width: 32px;\n",
              "    }\n",
              "\n",
              "    .colab-df-convert:hover {\n",
              "      background-color: #E2EBFA;\n",
              "      box-shadow: 0px 1px 2px rgba(60, 64, 67, 0.3), 0px 1px 3px 1px rgba(60, 64, 67, 0.15);\n",
              "      fill: #174EA6;\n",
              "    }\n",
              "\n",
              "    [theme=dark] .colab-df-convert {\n",
              "      background-color: #3B4455;\n",
              "      fill: #D2E3FC;\n",
              "    }\n",
              "\n",
              "    [theme=dark] .colab-df-convert:hover {\n",
              "      background-color: #434B5C;\n",
              "      box-shadow: 0px 1px 3px 1px rgba(0, 0, 0, 0.15);\n",
              "      filter: drop-shadow(0px 1px 2px rgba(0, 0, 0, 0.3));\n",
              "      fill: #FFFFFF;\n",
              "    }\n",
              "  </style>\n",
              "\n",
              "      <script>\n",
              "        const buttonEl =\n",
              "          document.querySelector('#df-5eb63f0c-2291-4cf2-a1b0-91f092578e6d button.colab-df-convert');\n",
              "        buttonEl.style.display =\n",
              "          google.colab.kernel.accessAllowed ? 'block' : 'none';\n",
              "\n",
              "        async function convertToInteractive(key) {\n",
              "          const element = document.querySelector('#df-5eb63f0c-2291-4cf2-a1b0-91f092578e6d');\n",
              "          const dataTable =\n",
              "            await google.colab.kernel.invokeFunction('convertToInteractive',\n",
              "                                                     [key], {});\n",
              "          if (!dataTable) return;\n",
              "\n",
              "          const docLinkHtml = 'Like what you see? Visit the ' +\n",
              "            '<a target=\"_blank\" href=https://colab.research.google.com/notebooks/data_table.ipynb>data table notebook</a>'\n",
              "            + ' to learn more about interactive tables.';\n",
              "          element.innerHTML = '';\n",
              "          dataTable['output_type'] = 'display_data';\n",
              "          await google.colab.output.renderOutput(dataTable, element);\n",
              "          const docLink = document.createElement('div');\n",
              "          docLink.innerHTML = docLinkHtml;\n",
              "          element.appendChild(docLink);\n",
              "        }\n",
              "      </script>\n",
              "    </div>\n",
              "  </div>\n",
              "  "
            ]
          },
          "metadata": {},
          "execution_count": 43
        }
      ]
    },
    {
      "metadata": {
        "trusted": true,
        "id": "OHVHQCOCeZPG"
      },
      "cell_type": "code",
      "source": [
        "traintexts=train['text'].tolist()\n",
        "testtexts=test['text'].tolist()\n",
        "\n",
        "all_texts = traintexts + testtexts"
      ],
      "execution_count": 44,
      "outputs": []
    },
    {
      "metadata": {
        "id": "GjkM1knmeZPG"
      },
      "cell_type": "markdown",
      "source": [
        "## Feature Extraction"
      ]
    },
    {
      "metadata": {
        "id": "MAUcwG9ueZPG"
      },
      "cell_type": "markdown",
      "source": [
        "### 1. Count Vectors"
      ]
    },
    {
      "metadata": {
        "trusted": true,
        "id": "MyhNrCLOeZPG"
      },
      "cell_type": "code",
      "source": [
        "count_vect = CountVectorizer(analyzer='word', token_pattern=r'\\w{1,}')\n",
        "count_vect.fit(all_texts)\n",
        "\n",
        "# transform the training and test data using count vectorizer object\n",
        "xtrain_count =  count_vect.transform(train['text'])\n",
        "xtest_count =  count_vect.transform(test['text'])"
      ],
      "execution_count": 45,
      "outputs": []
    },
    {
      "metadata": {
        "id": "aSX_lgCdeZPG"
      },
      "cell_type": "markdown",
      "source": [
        "### 2. Word level tf-idf"
      ]
    },
    {
      "metadata": {
        "trusted": true,
        "id": "y0X6rMkAeZPG"
      },
      "cell_type": "code",
      "source": [
        "tfidf_vect = TfidfVectorizer(analyzer='word', token_pattern=r'\\w{1,}', max_features=55000)\n",
        "tfidf_vect.fit(all_texts)\n",
        "xtrain_tfidf =  tfidf_vect.transform(train['text'])\n",
        "xtest_tfidf =  tfidf_vect.transform(test['text'])"
      ],
      "execution_count": 46,
      "outputs": []
    },
    {
      "metadata": {
        "id": "TqXhxp5OeZPH"
      },
      "cell_type": "markdown",
      "source": [
        "### 3. Hashing Vectorizer"
      ]
    },
    {
      "metadata": {
        "trusted": true,
        "id": "_KVizkLIeZPH"
      },
      "cell_type": "code",
      "source": [
        "hash_vectorizer = HashingVectorizer(n_features=55000)\n",
        "hash_vectorizer.fit(all_texts)\n",
        "xtrain_hash_vectorizer =  hash_vectorizer.transform(train['text']) \n",
        "xtest_hash_vectorizer =  hash_vectorizer.transform(test['text'])"
      ],
      "execution_count": 47,
      "outputs": []
    },
    {
      "metadata": {
        "id": "9FGZp8toeZPH"
      },
      "cell_type": "markdown",
      "source": [
        "## Building the Model"
      ]
    },
    {
      "metadata": {
        "trusted": true,
        "id": "s9N4HeiseZPH"
      },
      "cell_type": "code",
      "source": [
        "def train_model(classifier, feature_vector_train, label, feature_vector_test, test_y):\n",
        "    # fit the training dataset on the classifier\n",
        "    classifier.fit(feature_vector_train, label)\n",
        "    \n",
        "    # predict the labels on validation dataset\n",
        "    predictions = classifier.predict(feature_vector_test)\n",
        "    \n",
        "    return metrics.accuracy_score(predictions, test_y)"
      ],
      "execution_count": 48,
      "outputs": []
    },
    {
      "metadata": {
        "id": "iEwCyUzreZPH"
      },
      "cell_type": "markdown",
      "source": [
        "### Naive Bayes Classifier"
      ]
    },
    {
      "metadata": {
        "trusted": true,
        "colab": {
          "base_uri": "https://localhost:8080/"
        },
        "id": "ZNFHvtFZeZPH",
        "outputId": "d154d43f-4e9f-4001-a13f-e29a98fecc92"
      },
      "cell_type": "code",
      "source": [
        "print(\"NAIVE BAYES CLASSIFIER\")\n",
        "print(\"========================================================\")\n",
        "# Naive Bayes on Count Vectors\n",
        "accuracy = train_model(naive_bayes.MultinomialNB(), xtrain_count, train['labels'], xtest_count, test['labels'])\n",
        "print(\"-> Count Vectors Accuracy: {}% \".format(round(accuracy,4)*100))\n",
        "\n",
        "# Naive Bayes on Word Level TF IDF Vectors\n",
        "accuracy = train_model(naive_bayes.MultinomialNB(), xtrain_tfidf, train['labels'], xtest_tfidf, test['labels'])\n",
        "print(\"-> WordLevel TF-IDF Accuracy: {}%\".format(round(accuracy,4)*100))\n",
        "\n",
        "# Naive Bayes on Hash Vectors\n",
        "# accuracy = train_model(naive_bayes.MultinomialNB(), xtrain_hash_vectorizer, train['labels'], xtest_hash_vectorizer, test['labels'])\n",
        "# print(\"-> Hash Vectors Accuracy: \", round(accuracy,2))"
      ],
      "execution_count": 49,
      "outputs": [
        {
          "output_type": "stream",
          "name": "stdout",
          "text": [
            "NAIVE BAYES CLASSIFIER\n",
            "========================================================\n",
            "-> Count Vectors Accuracy: 95.48% \n",
            "-> WordLevel TF-IDF Accuracy: 90.74%\n"
          ]
        }
      ]
    },
    {
      "metadata": {
        "id": "VtcEWi75eZPH"
      },
      "cell_type": "markdown",
      "source": [
        "### Linear Classifier"
      ]
    },
    {
      "metadata": {
        "trusted": true,
        "colab": {
          "base_uri": "https://localhost:8080/"
        },
        "id": "3blv5DO_eZPH",
        "outputId": "20f84804-270a-49b9-be68-af53693a511a"
      },
      "cell_type": "code",
      "source": [
        "print(\"LINEAR CLASSIFIER\")\n",
        "print(\"========================================================\")\n",
        "# Linear Classifier on Count Vectors\n",
        "accuracy = train_model(linear_model.LogisticRegression(solver=\"lbfgs\",multi_class=\"auto\",max_iter=13000, n_jobs=2), xtrain_count, train['labels'], xtest_count, test['labels'])\n",
        "print(\"-> Count Vectors Accuracy: {}% \".format(round(accuracy,4)*100))\n",
        "\n",
        "# Linear Classifier on Word Level TF IDF Vectors\n",
        "accuracy = train_model(linear_model.LogisticRegression(solver=\"lbfgs\",multi_class=\"auto\",max_iter=13000, n_jobs=2), xtrain_tfidf, train['labels'], xtest_tfidf, test['labels'])\n",
        "print(\"-> WordLevel TF-IDF Accuracy: {}%\".format(round(accuracy,4)*100))\n",
        "\n",
        "# Linear Classifier on Hash Vectors\n",
        "accuracy = train_model(linear_model.LogisticRegression(solver=\"lbfgs\",multi_class=\"auto\",max_iter=13000, n_jobs=2), xtrain_hash_vectorizer, train['labels'], xtest_hash_vectorizer, test['labels'])\n",
        "print(\"-> Hash Vectors Accuracy: {}%\".format(round(accuracy,4)*100))"
      ],
      "execution_count": 50,
      "outputs": [
        {
          "output_type": "stream",
          "name": "stdout",
          "text": [
            "LINEAR CLASSIFIER\n",
            "========================================================\n",
            "-> Count Vectors Accuracy: 98.02% \n",
            "-> WordLevel TF-IDF Accuracy: 96.14%\n",
            "-> Hash Vectors Accuracy: 97.46000000000001%\n"
          ]
        }
      ]
    },
    {
      "metadata": {
        "id": "rQIzovKVeZPH"
      },
      "cell_type": "markdown",
      "source": [
        "### XGBoost Classifier"
      ]
    },
    {
      "metadata": {
        "trusted": true,
        "colab": {
          "base_uri": "https://localhost:8080/"
        },
        "id": "E8QV6-J2eZPH",
        "outputId": "d7fa2063-d5ea-4d47-ca31-bbda60a040ac"
      },
      "cell_type": "code",
      "source": [
        "\n",
        "print(\"XGBOOST CLASSIFIER\")\n",
        "print(\"========================================================\")\n",
        "# Linear Classifier on Count Vectors\n",
        "accuracy = train_model(xgboost.XGBClassifier(), xtrain_count, train['labels'], xtest_count, test['labels'])\n",
        "print(\"-> Count Vectors Accuracy: {}% \".format(round(accuracy,4)*100))\n",
        "\n",
        "# Linear Classifier on Word Level TF IDF Vectors\n",
        "accuracy = train_model(xgboost.XGBClassifier(), xtrain_tfidf, train['labels'], xtest_tfidf, test['labels'])\n",
        "print(\"-> WordLevel TF-IDF Accuracy: {}%\".format(round(accuracy,4)*100))\n",
        "\n",
        "# Linear Classifier on Hash Vectors\n",
        "accuracy = train_model(xgboost.XGBClassifier(), xtrain_hash_vectorizer, train['labels'], xtest_hash_vectorizer, test['labels'])\n",
        "print(\"-> Hash Vectors Accuracy: {}%\".format(round(accuracy,4)*100))"
      ],
      "execution_count": 51,
      "outputs": [
        {
          "output_type": "stream",
          "name": "stdout",
          "text": [
            "XGBOOST CLASSIFIER\n",
            "========================================================\n",
            "-> Count Vectors Accuracy: 98.24000000000001% \n",
            "-> WordLevel TF-IDF Accuracy: 98.24000000000001%\n",
            "-> Hash Vectors Accuracy: 98.24000000000001%\n"
          ]
        }
      ]
    },
    {
      "metadata": {
        "trusted": true,
        "id": "SwIXatB3eZPH"
      },
      "cell_type": "code",
      "source": [
        "from sklearn.neighbors import KNeighborsClassifier"
      ],
      "execution_count": 52,
      "outputs": []
    },
    {
      "metadata": {
        "trusted": true,
        "colab": {
          "base_uri": "https://localhost:8080/"
        },
        "id": "ZTAGh5KveZPI",
        "outputId": "d5067d71-8d20-4b01-f78d-3e294cf2569a"
      },
      "cell_type": "code",
      "source": [
        "print(\"KNN CLASSIFIER\")\n",
        "print(\"========================================================\")\n",
        "# Linear Classifier on Count Vectors\n",
        "accuracy = train_model(KNeighborsClassifier(n_neighbors = 80, n_jobs=4) , xtrain_count, train['labels'], xtest_count, test['labels'])\n",
        "print(\"-> Count Vectors Accuracy: {}% \".format(round(accuracy,4)*100))\n",
        "\n",
        "# Linear Classifier on Word Level TF IDF Vectors\n",
        "accuracy = train_model(KNeighborsClassifier(n_neighbors = 80, n_jobs=4) , xtrain_tfidf, train['labels'], xtest_tfidf, test['labels'])\n",
        "print(\"-> WordLevel TF-IDF Accuracy: {}%\".format(round(accuracy,4)*100))\n",
        "\n",
        "# Linear Classifier on Hash Vectors\n",
        "accuracy = train_model(KNeighborsClassifier(n_neighbors = 80, n_jobs=4) , xtrain_hash_vectorizer, train['labels'], xtest_hash_vectorizer, test['labels'])\n",
        "print(\"-> Hash Vectors Accuracy: {}%\".format(round(accuracy,4)*100))"
      ],
      "execution_count": 53,
      "outputs": [
        {
          "output_type": "stream",
          "name": "stdout",
          "text": [
            "KNN CLASSIFIER\n",
            "========================================================\n",
            "-> Count Vectors Accuracy: 57.989999999999995% \n",
            "-> WordLevel TF-IDF Accuracy: 90.41%\n",
            "-> Hash Vectors Accuracy: 96.25%\n"
          ]
        }
      ]
    },
    {
      "metadata": {
        "trusted": true,
        "id": "9563_UfmeZPI"
      },
      "cell_type": "code",
      "source": [
        "from sklearn.linear_model import SGDClassifier"
      ],
      "execution_count": 54,
      "outputs": []
    },
    {
      "metadata": {
        "trusted": true,
        "colab": {
          "base_uri": "https://localhost:8080/"
        },
        "id": "bM19hmTteZPI",
        "outputId": "646367c9-b042-4251-aa68-6cef9c137928"
      },
      "cell_type": "code",
      "source": [
        "print(\"SGD CLASSIFIER\")\n",
        "print(\"========================================================\")\n",
        "# Linear Classifier on Count Vectors\n",
        "accuracy = train_model(SGDClassifier(max_iter=500, n_jobs=4) , xtrain_count, train['labels'], xtest_count, test['labels'])\n",
        "print(\"-> Count Vectors Accuracy: {}% \".format(round(accuracy,4)*100))\n",
        "\n",
        "# Linear Classifier on Word Level TF IDF Vectors\n",
        "accuracy = train_model(SGDClassifier(max_iter=500, n_jobs=4) , xtrain_tfidf, train['labels'], xtest_tfidf, test['labels'])\n",
        "print(\"-> WordLevel TF-IDF Accuracy: {}%\".format(round(accuracy,4)*100))\n",
        "\n",
        "# Linear Classifier on Hash Vectors\n",
        "accuracy = train_model(SGDClassifier(max_iter=500, n_jobs=4) , xtrain_hash_vectorizer, train['labels'], xtest_hash_vectorizer, test['labels'])\n",
        "print(\"-> Hash Vectors Accuracy: {}%\".format(round(accuracy,4)*100))"
      ],
      "execution_count": 55,
      "outputs": [
        {
          "output_type": "stream",
          "name": "stdout",
          "text": [
            "SGD CLASSIFIER\n",
            "========================================================\n",
            "-> Count Vectors Accuracy: 98.02% \n",
            "-> WordLevel TF-IDF Accuracy: 98.13%\n",
            "-> Hash Vectors Accuracy: 98.24000000000001%\n"
          ]
        }
      ]
    },
    {
      "metadata": {
        "trusted": true,
        "id": "lLGJD6WteZPI"
      },
      "cell_type": "code",
      "source": [
        "from sklearn.svm import LinearSVC"
      ],
      "execution_count": 56,
      "outputs": []
    },
    {
      "metadata": {
        "trusted": true,
        "colab": {
          "base_uri": "https://localhost:8080/"
        },
        "id": "v_zr51maeZPI",
        "outputId": "1695ff05-2162-4cb6-c6a3-0fa5a1e3e37d"
      },
      "cell_type": "code",
      "source": [
        "print(\"LINEAR SVC CLASSIFIER\")\n",
        "print(\"========================================================\")\n",
        "# Linear Classifier on Count Vectors\n",
        "accuracy = train_model(LinearSVC(max_iter=3500) , xtrain_count, train['labels'], xtest_count, test['labels'])\n",
        "print(\"-> Count Vectors Accuracy: {}% \".format(round(accuracy,4)*100))\n",
        "\n",
        "# Linear Classifier on Word Level TF IDF Vectors\n",
        "accuracy = train_model(LinearSVC(max_iter=3500) , xtrain_tfidf, train['labels'], xtest_tfidf, test['labels'])\n",
        "print(\"-> WordLevel TF-IDF Accuracy: {}%\".format(round(accuracy,4)*100))\n",
        "\n",
        "# Linear Classifier on Hash Vectors\n",
        "accuracy = train_model(LinearSVC(max_iter=3500) , xtrain_hash_vectorizer, train['labels'], xtest_hash_vectorizer, test['labels'])\n",
        "print(\"-> Hash Vectors Accuracy: {}%\".format(round(accuracy,4)*100))"
      ],
      "execution_count": 57,
      "outputs": [
        {
          "output_type": "stream",
          "name": "stdout",
          "text": [
            "LINEAR SVC CLASSIFIER\n",
            "========================================================\n",
            "-> Count Vectors Accuracy: 98.13% \n",
            "-> WordLevel TF-IDF Accuracy: 98.13%\n",
            "-> Hash Vectors Accuracy: 98.35000000000001%\n"
          ]
        }
      ]
    },
    {
      "metadata": {
        "trusted": true,
        "id": "bU5naBoSeZPI"
      },
      "cell_type": "code",
      "source": [],
      "execution_count": 57,
      "outputs": []
    },
    {
      "metadata": {
        "trusted": true,
        "id": "zF33HJb7eZPI"
      },
      "cell_type": "code",
      "source": [],
      "execution_count": 57,
      "outputs": []
    }
  ],
  "metadata": {
    "kernelspec": {
      "name": "python3",
      "display_name": "Python 3",
      "language": "python"
    },
    "language_info": {
      "name": "python",
      "version": "3.7.6",
      "mimetype": "text/x-python",
      "codemirror_mode": {
        "name": "ipython",
        "version": 3
      },
      "pygments_lexer": "ipython3",
      "nbconvert_exporter": "python",
      "file_extension": ".py"
    },
    "colab": {
      "provenance": []
    }
  },
  "nbformat": 4,
  "nbformat_minor": 0
}